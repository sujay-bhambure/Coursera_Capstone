{
 "cells": [
  {
   "cell_type": "markdown",
   "metadata": {},
   "source": [
    "# Introduction Section - Business Problem\n"
   ]
  },
  {
   "cell_type": "markdown",
   "metadata": {},
   "source": [
    "### As a food blogger visiting Toronto city, I want to stay at a hotel such that my travelling distance in minimal to all restraurents in the city"
   ]
  },
  {
   "cell_type": "markdown",
   "metadata": {},
   "source": [
    "# Data Section - Data Requirement to solve business problem"
   ]
  },
  {
   "cell_type": "markdown",
   "metadata": {},
   "source": [
    "### 1. Get postal code and lat/lon for Toronto city\n",
    "### 2. Get Toronto city hotel names and their corresponding Lat/Long using Foursquare api\n",
    "### 3. Get Toronto city restraurent names and their corresponding Lat/Long using Foursquare api\n",
    "### 4. Computation of distance in km from Lat/Long\n"
   ]
  },
  {
   "cell_type": "markdown",
   "metadata": {},
   "source": [
    "# Methodology Section - How the business problem was solved"
   ]
  },
  {
   "cell_type": "markdown",
   "metadata": {},
   "source": [
    "### 1. Get postal code and lat/lon for Toronto city from https://cocl.us/Geospatial_data\n",
    "### 2. Hotel and restraurent data extraction done using Foursquare api\n",
    "### 3. Exploratory analysis to get total counts of hotels and restraurents and where they are located\n",
    "### 4. To find the optimal hotel-restraurents combination which has total minimum distance, I have build a custom algorithm; steps of the algorithms are as follows:\n",
    "* #### Create function to convert pair of lat/long to distance in km\n",
    "* #### Find hotel-restraurent distance matrix where each element is distace in km between hotel and restraurent\n",
    "* #### Get total distance from hotel to restraurents\n",
    "* #### Find the hotel with minimum total distance"
   ]
  },
  {
   "cell_type": "markdown",
   "metadata": {},
   "source": [
    "# Result Section - What was the output of the solution\n",
    "### The solution works great and provides name, lat/long for the hotel and list of restraurents that the food blogger can visit along with the total expected distance food blogger would have to travel"
   ]
  },
  {
   "cell_type": "markdown",
   "metadata": {},
   "source": [
    "# Discussion Section - Analyzing the solution and future steps\n",
    "###  This solution would work for any provided city to find the best hotel and restraurents to visit though the time complexity would be O(N^2). To improve it further we can use optimization algorithm like stocastic gradient descent to restrict selecting restraurents with large distances  "
   ]
  },
  {
   "cell_type": "markdown",
   "metadata": {},
   "source": [
    "# Conclusion Section\n",
    "### This was very concise business problem I created to explore use of foursquare api to get geo-spatial information for a perticular location. Along with that keep the stakeholder requirement in mind I decided to provide simple solution which would be applicable for multiple use cases."
   ]
  }
 ],
 "metadata": {
  "kernelspec": {
   "display_name": "Python 3",
   "language": "python",
   "name": "python3"
  },
  "language_info": {
   "codemirror_mode": {
    "name": "ipython",
    "version": 3
   },
   "file_extension": ".py",
   "mimetype": "text/x-python",
   "name": "python",
   "nbconvert_exporter": "python",
   "pygments_lexer": "ipython3",
   "version": "3.8.5"
  }
 },
 "nbformat": 4,
 "nbformat_minor": 4
}
